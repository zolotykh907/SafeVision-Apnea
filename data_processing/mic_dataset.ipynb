{
 "cells": [
  {
   "cell_type": "code",
   "execution_count": 1,
   "metadata": {},
   "outputs": [],
   "source": [
    "import mne\n",
    "import os\n",
    "import time\n",
    "import librosa\n",
    "import librosa.display\n",
    "import matplotlib.pyplot as plt\n",
    "import numpy as np\n",
    "import soundfile as sf\n",
    "from tqdm import tqdm   \n",
    "import xml.etree.ElementTree as ET\n",
    "from scipy.io import wavfile\n",
    "from scipy.signal import find_peaks\n",
    "import warnings\n",
    "\n",
    "from data_processing.read_rml import get_attrubuts"
   ]
  },
  {
   "cell_type": "code",
   "execution_count": 11,
   "metadata": {},
   "outputs": [],
   "source": [
    "WINDOW_DURATION = 5 \n",
    "STEP_SECONDS = 10\n",
    "OUT_DIR = '/var/data/apnea/mic_dataset_5s/1/'"
   ]
  },
  {
   "cell_type": "code",
   "execution_count": 8,
   "metadata": {},
   "outputs": [],
   "source": [
    "mic_files = sorted(os.listdir(MIC_DIR), key=lambda x: \n",
    "                    (int(x.split('-')[0]), int(x.split('-')[1][-8])))\n",
    "\n",
    "rml_files = sorted(os.listdir(RML_DIR), key=lambda x: \n",
    "                    (int(x.split('-')[0]), int(x.split('-')[1][-8])))"
   ]
  },
  {
   "cell_type": "code",
   "execution_count": 20,
   "metadata": {},
   "outputs": [
    {
     "name": "stderr",
     "output_type": "stream",
     "text": [
      "  0%|          | 0/2 [00:00<?, ?it/s]"
     ]
    },
    {
     "name": "stdout",
     "output_type": "stream",
     "text": [
      "00000993-100507.rml\n",
      "00000995-100507.rml\n"
     ]
    },
    {
     "name": "stderr",
     "output_type": "stream",
     "text": [
      "100%|██████████| 2/2 [00:00<00:00,  2.25it/s]\n"
     ]
    }
   ],
   "source": [
    "for rml_file in tqdm(rml_files):\n",
    "    rml_path = RML_DIR + rml_file\n",
    "    name = rml_file.replace('.rml', '')\n",
    "    count_files = 0\n",
    "    print(rml_file)\n",
    "\n",
    "    apnea_attributs = get_attrubuts(rml_path)\n",
    "\n",
    "    for mic_file in mic_files:\n",
    "        if name in mic_file:\n",
    "            mic_path = MIC_DIR + mic_file \n",
    "        \n",
    "            mic_audio, sr = librosa.load(mic_path, sr=None)\n",
    "            \n",
    "            len_sec = int(len(mic_audio)/sr)\n",
    "            labels = np.zeros(len_sec)\n",
    "        \n",
    "            flag = False\n",
    "            for elem in apnea_attributs:\n",
    "                start = int(float(elem['Start'])) - count_files*60*60\n",
    "                end = int(start + float(elem['Duration'])) \n",
    "                #print(count_files, start, end)\n",
    "\n",
    "                if start < 0:\n",
    "                    continue\n",
    "                elif start < len(mic_audio)/sr:\n",
    "                    flag = True\n",
    "                    labels[start:end] = 1\n",
    "                else:\n",
    "                    count_files += 1\n",
    "                    #print('-'*50)\n",
    "                    break\n",
    "                    \n",
    "            if flag:\n",
    "                windows = []\n",
    "                window_size_samples = int(WINDOW_DURATION * sr)\n",
    "                step_samples = int(STEP_SECONDS * sr)\n",
    "\n",
    "                for i in range(0, len(mic_audio) - window_size_samples + 1, step_samples):\n",
    "                    windows.append(mic_audio[i:i + window_size_samples])\n",
    "\n",
    "                neg_windows = []\n",
    "                for i, window in enumerate(windows):\n",
    "                    if labels[i] == 0:\n",
    "                        neg_windows.append(window)\n",
    "                \n",
    "                neg_windows = np.random.choice(neg_windows, size=min(100, len(neg_windows), replace=False))\n",
    "\n",
    "                window_counter = 0\n",
    "                for neg_window in neg_windows:\n",
    "                    if len(neg_window) == WINDOW_DURATION * sr:\n",
    "                            output_filename = f\"{OUT_DIR}/{name}_{window_counter}.wav\"\n",
    "                            sf.write(output_filename, neg_window, sr)\n",
    "                            window_counter += 1"
   ]
  }
 ],
 "metadata": {
  "kernelspec": {
   "display_name": ".apnea",
   "language": "python",
   "name": "python3"
  },
  "language_info": {
   "codemirror_mode": {
    "name": "ipython",
    "version": 3
   },
   "file_extension": ".py",
   "mimetype": "text/x-python",
   "name": "python",
   "nbconvert_exporter": "python",
   "pygments_lexer": "ipython3",
   "version": "3.6.9"
  }
 },
 "nbformat": 4,
 "nbformat_minor": 2
}
