{
 "cells": [
  {
   "cell_type": "code",
   "execution_count": 1,
   "metadata": {},
   "outputs": [],
   "source": [
    "import os\n",
    "import matplotlib.pyplot as plt\n",
    "import numpy as np\n",
    "import soundfile as sf\n",
    "from tqdm import tqdm   \n",
    "import tensorflow as tf\n",
    "\n",
    "from data_processing.read_rml import get_attrubuts\n",
    "\n",
    "import sys\n",
    "sys.path.append(\"/var/data/apnea/src/vggish\")\n",
    "\n",
    "import vggish_input, vggish_params, vggish_slim\n",
    "from vggish.vggish_slim import define_vggish_slim, load_vggish_slim_checkpoint"
   ]
  },
  {
   "cell_type": "code",
   "execution_count": 2,
   "metadata": {},
   "outputs": [],
   "source": [
    "APNEA_DIR = '/var/data/apnea/mic_dataset_spec/1/'\n",
    "NO_APNEA_DIR = '/var/data/apnea/mic_dataset_spec/0/'\n",
    "\n",
    "checkpoint_path = \"/var/data/apnea/src/vggish/vggish_model.ckpt\"  \n",
    "pca_params_path = \"/var/data/apnea/src/vggish/vggish_pca_params.npz\""
   ]
  },
  {
   "cell_type": "code",
   "execution_count": 3,
   "metadata": {},
   "outputs": [],
   "source": [
    "# with tf.Graph().as_default(), tf.compat.v1.Session() as sess:\n",
    "#     pool4_output = define_vggish_slim()\n",
    "\n",
    "#     checkpoint_path = \"/var/data/apnea/src/vggish/vggish_model.ckpt\"\n",
    "#     load_vggish_slim_checkpoint(sess, checkpoint_path)\n",
    "\n",
    "#     for op in sess.graph.get_operations():\n",
    "#         print(op.name)"
   ]
  },
  {
   "cell_type": "code",
   "execution_count": 3,
   "metadata": {},
   "outputs": [],
   "source": [
    "def create_dataset(apnea_dir, no_apnea_dir):\n",
    "    apnea_files = os.listdir(apnea_dir)\n",
    "    no_apnea_files = os.listdir(no_apnea_dir)[:1500]\n",
    "    spectograms = []\n",
    "    labels = []\n",
    "\n",
    "    for apnea_file in apnea_files:\n",
    "        apnea_data = np.load(apnea_dir + apnea_file, allow_pickle=True).item()\n",
    "        \n",
    "        spectograms.append(apnea_data['spectograms'])\n",
    "        \n",
    "        labels.append(apnea_data['label'])\n",
    "\n",
    "    for no_apnea_file in no_apnea_files:\n",
    "        no_apnea_data = np.load(no_apnea_dir + no_apnea_file, allow_pickle=True).item()\n",
    "        \n",
    "        spectograms.append(no_apnea_data['spectograms'])\n",
    "        \n",
    "        labels.append(no_apnea_data['label'])\n",
    "       \n",
    "\n",
    "    return np.array(spectograms), np.array(labels)\n",
    "        \n"
   ]
  },
  {
   "cell_type": "code",
   "execution_count": 4,
   "metadata": {},
   "outputs": [],
   "source": [
    "X, y = create_dataset(APNEA_DIR, NO_APNEA_DIR)"
   ]
  },
  {
   "cell_type": "code",
   "execution_count": 5,
   "metadata": {},
   "outputs": [
    {
     "name": "stdout",
     "output_type": "stream",
     "text": [
      "Model: \"sequential\"\n",
      "_________________________________________________________________\n",
      "Layer (type)                 Output Shape              Param #   \n",
      "=================================================================\n",
      "time_distributed (TimeDistri (None, 17, 256)           3145984   \n",
      "_________________________________________________________________\n",
      "time_distributed_1 (TimeDist (None, 17, 128)           32896     \n",
      "_________________________________________________________________\n",
      "bidirectional (Bidirectional (None, 14)                7616      \n",
      "_________________________________________________________________\n",
      "dropout (Dropout)            (None, 14)                0         \n",
      "_________________________________________________________________\n",
      "dense_2 (Dense)              (None, 64)                960       \n",
      "_________________________________________________________________\n",
      "dense_3 (Dense)              (None, 1)                 65        \n",
      "=================================================================\n",
      "Total params: 3,187,521\n",
      "Trainable params: 3,187,521\n",
      "Non-trainable params: 0\n",
      "_________________________________________________________________\n"
     ]
    }
   ],
   "source": [
    "from tensorflow.keras import layers, models\n",
    "\n",
    "def create_model(input_shape):\n",
    "    model = models.Sequential()\n",
    "\n",
    "    model.add(layers.Input(shape=input_shape))  # input_shape = (17, 12288)\n",
    "\n",
    "    model.add(layers.TimeDistributed(layers.Dense(256, activation='relu')))\n",
    "    model.add(layers.TimeDistributed(layers.Dense(128, activation='relu')))\n",
    "\n",
    "    model.add(layers.Bidirectional(layers.LSTM(7, return_sequences=False)))\n",
    "\n",
    "    model.add(layers.Dropout(0.4))\n",
    "\n",
    "    model.add(layers.Dense(64, activation='relu'))\n",
    "\n",
    "    model.add(layers.Dense(1, activation='sigmoid'))\n",
    "\n",
    "    return model\n",
    "\n",
    "input_shape = (17, 12288)\n",
    "model = create_model(input_shape)\n",
    "model.summary()"
   ]
  },
  {
   "cell_type": "code",
   "execution_count": 7,
   "metadata": {},
   "outputs": [
    {
     "name": "stdout",
     "output_type": "stream",
     "text": [
      "Форма X_train: (2367, 17, 12288)\n",
      "Форма y_train: (2367,)\n"
     ]
    }
   ],
   "source": [
    "from sklearn.model_selection import train_test_split\n",
    "\n",
    "X_train, X_test, y_train, y_test = train_test_split(X, y, test_size=0.2, random_state=42)\n",
    "\n",
    "print(\"Форма X_train:\", X_train.shape)  #(len, 17, 12288)\n",
    "print(\"Форма y_train:\", y_train.shape) #(len, )"
   ]
  },
  {
   "cell_type": "code",
   "execution_count": 8,
   "metadata": {},
   "outputs": [
    {
     "name": "stdout",
     "output_type": "stream",
     "text": [
      "Epoch 1/50\n",
      "37/37 [==============================] - 4s 63ms/step - loss: 0.6941 - accuracy: 0.5120 - precision: 0.5061 - recall: 0.2127 - val_loss: 0.6922 - val_accuracy: 0.5051 - val_precision: 0.6316 - val_recall: 0.0403\n",
      "Epoch 2/50\n",
      "37/37 [==============================] - 2s 44ms/step - loss: 0.6915 - accuracy: 0.5239 - precision: 0.5192 - recall: 0.3962 - val_loss: 0.6889 - val_accuracy: 0.5659 - val_precision: 0.5880 - val_recall: 0.4597\n",
      "Epoch 3/50\n",
      "37/37 [==============================] - 2s 56ms/step - loss: 0.6796 - accuracy: 0.5775 - precision: 0.5759 - recall: 0.5263 - val_loss: 0.6800 - val_accuracy: 0.5304 - val_precision: 0.6613 - val_recall: 0.1376\n",
      "Epoch 4/50\n",
      "37/37 [==============================] - 2s 48ms/step - loss: 0.6200 - accuracy: 0.6705 - precision: 0.6859 - recall: 0.6055 - val_loss: 0.5735 - val_accuracy: 0.7348 - val_precision: 0.7701 - val_recall: 0.6745\n",
      "Epoch 5/50\n",
      "37/37 [==============================] - 2s 44ms/step - loss: 0.4490 - accuracy: 0.8086 - precision: 0.8084 - recall: 0.7993 - val_loss: 0.4725 - val_accuracy: 0.7838 - val_precision: 0.7951 - val_recall: 0.7685\n",
      "Epoch 6/50\n",
      "37/37 [==============================] - 2s 45ms/step - loss: 0.3351 - accuracy: 0.8716 - precision: 0.8749 - recall: 0.8613 - val_loss: 0.4144 - val_accuracy: 0.8345 - val_precision: 0.8145 - val_recall: 0.8691\n",
      "Epoch 7/50\n",
      "37/37 [==============================] - 2s 45ms/step - loss: 0.2846 - accuracy: 0.8969 - precision: 0.8949 - recall: 0.8949 - val_loss: 0.3988 - val_accuracy: 0.8294 - val_precision: 0.8956 - val_recall: 0.7483\n",
      "Epoch 8/50\n",
      "37/37 [==============================] - 2s 51ms/step - loss: 0.2371 - accuracy: 0.9231 - precision: 0.9336 - recall: 0.9078 - val_loss: 0.3509 - val_accuracy: 0.8581 - val_precision: 0.8905 - val_recall: 0.8188\n",
      "Epoch 9/50\n",
      "37/37 [==============================] - 2s 52ms/step - loss: 0.2136 - accuracy: 0.9252 - precision: 0.9393 - recall: 0.9061 - val_loss: 0.3551 - val_accuracy: 0.8716 - val_precision: 0.9302 - val_recall: 0.8054\n",
      "Epoch 10/50\n",
      "37/37 [==============================] - 2s 52ms/step - loss: 0.2032 - accuracy: 0.9307 - precision: 0.9471 - recall: 0.9096 - val_loss: 0.3517 - val_accuracy: 0.8716 - val_precision: 0.9370 - val_recall: 0.7987\n",
      "Epoch 11/50\n",
      "37/37 [==============================] - 2s 52ms/step - loss: 0.1896 - accuracy: 0.9349 - precision: 0.9573 - recall: 0.9078 - val_loss: 0.3089 - val_accuracy: 0.8885 - val_precision: 0.9143 - val_recall: 0.8591\n",
      "Epoch 12/50\n",
      "37/37 [==============================] - 2s 56ms/step - loss: 0.1925 - accuracy: 0.9307 - precision: 0.9569 - recall: 0.8992 - val_loss: 0.3147 - val_accuracy: 0.8750 - val_precision: 0.9590 - val_recall: 0.7852\n",
      "Epoch 13/50\n",
      "37/37 [==============================] - 2s 60ms/step - loss: 0.1722 - accuracy: 0.9434 - precision: 0.9795 - recall: 0.9035 - val_loss: 0.3298 - val_accuracy: 0.8818 - val_precision: 0.9488 - val_recall: 0.8087\n",
      "Epoch 14/50\n",
      "37/37 [==============================] - 2s 52ms/step - loss: 0.1823 - accuracy: 0.9349 - precision: 0.9615 - recall: 0.9035 - val_loss: 0.3649 - val_accuracy: 0.8530 - val_precision: 0.9648 - val_recall: 0.7349\n",
      "Epoch 15/50\n",
      "37/37 [==============================] - 2s 52ms/step - loss: 0.1743 - accuracy: 0.9387 - precision: 0.9669 - recall: 0.9061 - val_loss: 0.3321 - val_accuracy: 0.8885 - val_precision: 0.9361 - val_recall: 0.8356\n",
      "Epoch 16/50\n",
      "37/37 [==============================] - 2s 52ms/step - loss: 0.1713 - accuracy: 0.9442 - precision: 0.9733 - recall: 0.9113 - val_loss: 0.3704 - val_accuracy: 0.8463 - val_precision: 0.9559 - val_recall: 0.7282\n",
      "Epoch 17/50\n",
      "37/37 [==============================] - 2s 55ms/step - loss: 0.1712 - accuracy: 0.9425 - precision: 0.9767 - recall: 0.9044 - val_loss: 0.3152 - val_accuracy: 0.8818 - val_precision: 0.9672 - val_recall: 0.7919\n",
      "Epoch 18/50\n",
      "37/37 [==============================] - 2s 55ms/step - loss: 0.1662 - accuracy: 0.9434 - precision: 0.9724 - recall: 0.9104 - val_loss: 0.3603 - val_accuracy: 0.8514 - val_precision: 0.9730 - val_recall: 0.7248\n"
     ]
    }
   ],
   "source": [
    "from tensorflow.keras.callbacks import EarlyStopping\n",
    "from tensorflow.keras.metrics import Precision, Recall\n",
    "\n",
    "early_stopping = EarlyStopping(\n",
    "    monitor='val_loss',  \n",
    "    patience=7,       \n",
    "    restore_best_weights=True \n",
    ")\n",
    "\n",
    "model.compile(\n",
    "    optimizer='adam',\n",
    "    loss='binary_crossentropy',\n",
    "    metrics=['accuracy', Precision(name='precision'), Recall(name='recall')]\n",
    ")\n",
    "\n",
    "history = model.fit(\n",
    "    X_train, y_train,\n",
    "    epochs=50,\n",
    "    batch_size=64,\n",
    "    validation_data=(X_test, y_test),\n",
    "    callbacks=[early_stopping]\n",
    ")"
   ]
  },
  {
   "cell_type": "code",
   "execution_count": 9,
   "metadata": {},
   "outputs": [],
   "source": [
    "predictions = model.predict(X_test)"
   ]
  },
  {
   "cell_type": "code",
   "execution_count": 10,
   "metadata": {},
   "outputs": [
    {
     "name": "stdout",
     "output_type": "stream",
     "text": [
      "Порог = 0.3\n",
      "Recall: 0.8993288590604027\n",
      "Precision: 0.8729641693811075\n",
      "Accuracy: 0.8834459459459459\n",
      "-------------------------\n",
      "Порог = 0.5\n",
      "Recall: 0.8590604026845637\n",
      "Precision: 0.9142857142857143\n",
      "Accuracy: 0.8885135135135135\n",
      "-------------------------\n",
      "Порог = 0.7\n",
      "Recall: 0.7986577181208053\n",
      "Precision: 0.9482071713147411\n",
      "Accuracy: 0.8766891891891891\n",
      "-------------------------\n",
      "Порог = 0.9\n",
      "Recall: 0.6543624161073825\n",
      "Precision: 0.9798994974874372\n",
      "Accuracy: 0.8192567567567568\n",
      "-------------------------\n"
     ]
    }
   ],
   "source": [
    "from sklearn.metrics import recall_score, precision_score, accuracy_score\n",
    "\n",
    "thresholds = [0.3, 0.5, 0.7, 0.9]\n",
    "\n",
    "for threshold in thresholds:\n",
    "    bin_predictions = (predictions > threshold).astype(int)\n",
    "\n",
    "    recall = recall_score(y_test, bin_predictions)\n",
    "    precision = precision_score(y_test, bin_predictions)\n",
    "    accuracy = accuracy_score(y_test, bin_predictions)\n",
    "\n",
    "    print(f'Порог = {threshold}')\n",
    "    print(\"Recall:\", recall)\n",
    "    print(\"Precision:\", precision)\n",
    "    print(\"Accuracy:\", accuracy)\n",
    "    print('-'*25)"
   ]
  }
 ],
 "metadata": {
  "kernelspec": {
   "display_name": ".apnea",
   "language": "python",
   "name": "python3"
  },
  "language_info": {
   "codemirror_mode": {
    "name": "ipython",
    "version": 3
   },
   "file_extension": ".py",
   "mimetype": "text/x-python",
   "name": "python",
   "nbconvert_exporter": "python",
   "pygments_lexer": "ipython3",
   "version": "3.6.9"
  }
 },
 "nbformat": 4,
 "nbformat_minor": 2
}
